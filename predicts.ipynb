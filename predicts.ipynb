{
 "cells": [
  {
   "cell_type": "code",
   "execution_count": 1,
   "metadata": {},
   "outputs": [],
   "source": [
    "#import libraries\n",
    "import pandas as pd\n",
    "import joblib\n",
    "import pickle\n",
    "\n",
    "# Load the saved models\n",
    "model = joblib.load('clf_model.pkl')\n",
    "sc = joblib.load('scaler.pkl')\n",
    "\n",
    "# Load the saved feature selector\n",
    "with open('feature_selector.pkl', 'rb') as f:\n",
    "    fs = pickle.load(f)\n",
    "\n",
    "# Function to predict breast cancer\n",
    "def predict_cancer(input_data):\n",
    "    # Convert input data to DataFrame\n",
    "    input_df = pd.DataFrame([input_data])\n",
    "    \n",
    "    # Scale the input data\n",
    "    input_scaled = sc.transform(input_df)\n",
    "    \n",
    "    # Transform the scaled data using the loaded feature selector\n",
    "    input_fs = fs.transform(input_scaled)\n",
    "    \n",
    "    # Make predictions\n",
    "    prediction = model.predict(input_fs)\n",
    "    prediction_proba = prediction[0]\n",
    "    \n",
    "    return prediction_proba\n",
    "\n"
   ]
  },
  {
   "cell_type": "code",
   "execution_count": 2,
   "metadata": {},
   "outputs": [],
   "source": [
    "# Example input data\n",
    "input_data = {\n",
    "    'radius_mean': 17.99,\n",
    "    'texture_mean': 10.38,\n",
    "    'perimeter_mean': 122.8,\n",
    "    'area_mean': 1001.0,\n",
    "    'smoothness_mean': 0.1184,\n",
    "    'compactness_mean': 0.2776,\n",
    "    'concavity_mean': 0.3001,\n",
    "    'concave points_mean': 0.1471,\n",
    "    'symmetry_mean': 0.2419,\n",
    "    'fractal_dimension_mean': 0.07871,\n",
    "    'radius_se': 1.095,\n",
    "    'texture_se': 0.9053,\n",
    "    'perimeter_se': 8.589,\n",
    "    'area_se': 153.4,\n",
    "    'smoothness_se': 0.006399,\n",
    "    'compactness_se': 0.04904,\n",
    "    'concavity_se': 0.05373,\n",
    "    'concave points_se': 0.01587,\n",
    "    'symmetry_se': 0.03003,\n",
    "    'fractal_dimension_se': 0.006193,\n",
    "    'radius_worst': 25.38,\n",
    "    'texture_worst': 17.33,\n",
    "    'perimeter_worst': 184.6,\n",
    "    'area_worst': 2019.0,\n",
    "    'smoothness_worst': 0.1622,\n",
    "    'compactness_worst': 0.6656,\n",
    "    'concavity_worst': 0.7119,\n",
    "    'concave points_worst': 0.2654,\n",
    "    'symmetry_worst': 0.4601,\n",
    "    'fractal_dimension_worst': 0.1189\n",
    "}\n",
    "\n"
   ]
  },
  {
   "cell_type": "code",
   "execution_count": 3,
   "metadata": {},
   "outputs": [
    {
     "name": "stdout",
     "output_type": "stream",
     "text": [
      "Likely to be Malignant\n"
     ]
    }
   ],
   "source": [
    "# Predict and print the result\n",
    "prediction_proba = predict_cancer(input_data)\n",
    "if prediction_proba > 0.5:\n",
    "    print('Likely to be Malignant')\n",
    "else:\n",
    "    print('Likely Benign')"
   ]
  }
 ],
 "metadata": {
  "kernelspec": {
   "display_name": "venv",
   "language": "python",
   "name": "python3"
  },
  "language_info": {
   "codemirror_mode": {
    "name": "ipython",
    "version": 3
   },
   "file_extension": ".py",
   "mimetype": "text/x-python",
   "name": "python",
   "nbconvert_exporter": "python",
   "pygments_lexer": "ipython3",
   "version": "3.11.4"
  }
 },
 "nbformat": 4,
 "nbformat_minor": 2
}
